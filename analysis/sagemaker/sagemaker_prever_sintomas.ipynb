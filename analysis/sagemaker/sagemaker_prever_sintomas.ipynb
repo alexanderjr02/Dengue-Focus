{
 "cells": [
  {
   "cell_type": "markdown",
   "metadata": {},
   "source": [
    "# Passo 1: Ajustando o SageMaker Environment"
   ]
  },
  {
   "cell_type": "code",
   "execution_count": null,
   "metadata": {},
   "outputs": [],
   "source": [
    "import sagemaker\n",
    "from sagemaker import get_execution_role\n",
    "import boto3\n",
    "\n",
    "# Initialize SageMaker session\n",
    "sagemaker_session = sagemaker.Session()\n",
    "\n",
    "# Get the execution role\n",
    "role = get_execution_role()\n",
    "\n",
    "# Define the S3 bucket and prefix\n",
    "bucket = 'sagemaker-grupo2'\n",
    "prefix = 'dengue-prediction'"
   ]
  },
  {
   "cell_type": "markdown",
   "metadata": {},
   "source": [
    "# Passo 2: Preparando os Dados"
   ]
  },
  {
   "cell_type": "code",
   "execution_count": null,
   "metadata": {},
   "outputs": [],
   "source": [
    "# Upload the dataset to S3\n",
    "dataset_path = 'dengue_sintomas_brasilia_limpo.csv'\n",
    "Xtrain_path = 'X_train.csv'\n",
    "Xtest_path = 'X_test.csv'\n",
    "ytrain_path = 'y_train.csv'\n",
    "ytest_path = 'y_test.csv'\n",
    "\n",
    "s3_input_path = sagemaker_session.upload_data(path=dataset_path, bucket=bucket, key_prefix=prefix)\n",
    "s3_input_path_Xtrain = sagemaker_session.upload_data(path=Xtrain_path, bucket=bucket, key_prefix=prefix)    \n",
    "s3_input_path_Xtest = sagemaker_session.upload_data(path=Xtest_path, bucket=bucket, key_prefix=prefix)\n",
    "s3_input_path_ytrain = sagemaker_session.upload_data(path=ytrain_path, bucket=bucket, key_prefix=prefix)    \n",
    "s3_input_path_ytest = sagemaker_session.upload_data(path=ytest_path, bucket=bucket, key_prefix=prefix)\n",
    "\n",
    "print(f'Dataset uploaded to: {s3_input_path}')\n",
    "print(f'X_train uploaded to: {s3_input_path_Xtrain}')\n",
    "print(f'X_test uploaded to: {s3_input_path_Xtest}')\n",
    "print(f'y_train uploaded to: {s3_input_path_ytrain}')\n",
    "print(f'y_test uploaded to: {s3_input_path_ytest}')"
   ]
  },
  {
   "cell_type": "markdown",
   "metadata": {},
   "source": [
    "# Passo 3: Definindo o script de treino"
   ]
  },
  {
   "cell_type": "code",
   "execution_count": null,
   "metadata": {},
   "outputs": [],
   "source": [
    "%%writefile train.py\n",
    "\n",
    "import argparse\n",
    "import pandas as pd\n",
    "import numpy as np\n",
    "from sklearn.model_selection import train_test_split\n",
    "from sklearn.preprocessing import StandardScaler\n",
    "from imblearn.combine import SMOTEENN\n",
    "import xgboost as xgb\n",
    "import joblib\n",
    "\n",
    "def model_fn(model_dir):\n",
    "    \"\"\"Load model from the model_dir directory.\"\"\"\n",
    "    model = xgb.Booster()\n",
    "    model.load_model(os.path.join(model_dir, \"model.xgb\"))\n",
    "    return model\n",
    "\n",
    "if __name__ == '__main__':\n",
    "    parser = argparse.ArgumentParser()\n",
    "    \n",
    "    # SageMaker specific arguments\n",
    "    parser.add_argument('--output-data-dir', type=str, default=os.environ['SM_OUTPUT_DATA_DIR'])\n",
    "    parser.add_argument('--model-dir', type=str, default=os.environ['SM_MODEL_DIR'])\n",
    "    parser.add_argument('--train', type=str, default=os.environ['SM_CHANNEL_TRAIN'])\n",
    "    \n",
    "    args = parser.parse_args()\n",
    "    \n",
    "    # Load the dataset\n",
    "    X_train = pd.read_csv(f'{args.train}/X_train.csv')\n",
    "    X_test = pd.read_csv(f'{args.train}/X_test.csv')\n",
    "    y_train = pd.read_csv(f'{args.train}/y_train.csv')\n",
    "    y_test = pd.read_csv(f'{args.train}/y_test.csv')\n",
    "    \n",
    "    # Initialize the model with the best parameters\n",
    "    model = xgb.XGBClassifier(\n",
    "        eval_metric='mlogloss',\n",
    "        learning_rate=0.1,\n",
    "        max_depth=3,\n",
    "        n_estimators=300,\n",
    "        scale_pos_weight=5,\n",
    "        random_state=42\n",
    "    )\n",
    "    \n",
    "    # Train the model\n",
    "    model.fit(X_train, y_train)\n",
    "    \n",
    "    # Calculate accuracy on the test set\n",
    "    y_pred = model.predict(X_test)\n",
    "    accuracy = accuracy_score(y_test, y_pred)\n",
    "    print(f\"Model accuracy on test set: {accuracy:.4f}\")\n",
    "    \n",
    "    print(\"Classification Report:\")\n",
    "    print(classification_report(y_test, y_pred))\n",
    "    \n",
    "    # Save the model in .xgb format\n",
    "    model_path = os.path.join(args.model_dir, \"model.xgb\")\n",
    "    model.get_booster().save_model(model_path)"
   ]
  },
  {
   "cell_type": "markdown",
   "metadata": {},
   "source": [
    "# Passo 4: Criar estimator"
   ]
  },
  {
   "cell_type": "code",
   "execution_count": null,
   "metadata": {},
   "outputs": [],
   "source": [
    "from sagemaker.xgboost.estimator import XGBoost\n",
    "\n",
    "best_xgb_params = {\n",
    "    'eval_metric': 'mlogloss',\n",
    "    'learning_rate': 0.1,\n",
    "    'max_depth': 3,\n",
    "    'scale_pos_weight': 5,\n",
    "    'n_estimators': 300,\n",
    "}\n",
    "\n",
    "# Define the estimator\n",
    "xgboost_estimator = XGBoost(\n",
    "    entry_point='train.py',\n",
    "    role=role,\n",
    "    instance_type='ml.m5.large',\n",
    "    instance_count=1,\n",
    "    framework_version='1.3-1',\n",
    "    hyperparameters=best_xgb_params,\n",
    "    sagemaker_session=sagemaker_session,\n",
    "    source_dir='training_code', \n",
    "    dependencies=['training_code/requirements.txt']\n",
    ")"
   ]
  },
  {
   "cell_type": "markdown",
   "metadata": {},
   "source": [
    "# Passo 5: Treinar o modelo"
   ]
  },
  {
   "cell_type": "code",
   "execution_count": null,
   "metadata": {},
   "outputs": [],
   "source": [
    "# Launch the training job\n",
    "xgboost_estimator.fit({'train': f's3://{bucket}/{prefix}'})"
   ]
  }
 ],
 "metadata": {
  "kernelspec": {
   "display_name": "Python 3",
   "language": "python",
   "name": "python3"
  },
  "language_info": {
   "name": "python",
   "version": "3.12.5"
  }
 },
 "nbformat": 4,
 "nbformat_minor": 2
}
